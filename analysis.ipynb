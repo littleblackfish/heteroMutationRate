{
 "cells": [
  {
   "cell_type": "markdown",
   "metadata": {},
   "source": [
    "We run the main analysis script which imports all the necessary libraries and provides all our functions"
   ]
  },
  {
   "cell_type": "code",
   "execution_count": 96,
   "metadata": {
    "collapsed": false
   },
   "outputs": [],
   "source": [
    "%run src/analyse.py "
   ]
  },
  {
   "cell_type": "markdown",
   "metadata": {},
   "source": [
    "We parse the reference genome and parse it to obtain the masked (N) regions. These regions will be used when we are sampling random mutations for our null model. "
   ]
  },
  {
   "cell_type": "code",
   "execution_count": null,
   "metadata": {
    "collapsed": true
   },
   "outputs": [],
   "source": [
    "TAIR10 = 'reference/TAIR10-masked.fa'\n",
    "\n",
    "chromosomes =  { ch.name:ch.seq  for ch in SeqIO.parse(TAIR10, 'fasta', generic_dna) }"
   ]
  },
  {
   "cell_type": "code",
   "execution_count": 72,
   "metadata": {
    "collapsed": false
   },
   "outputs": [
    {
     "name": "stdout",
     "output_type": "stream",
     "text": [
      "Chr5 26975502\n",
      "Chr4 18585056\n",
      "Chr3 23459830\n",
      "Chr2 19698289\n",
      "Chr1 30427671\n",
      "mitochondria 366924\n",
      "chloroplast 154478\n"
     ]
    }
   ],
   "source": [
    "for ch in chromosomes :\n",
    "    print ch, len(chromosomes[ch])"
   ]
  },
  {
   "cell_type": "code",
   "execution_count": null,
   "metadata": {
    "collapsed": true
   },
   "outputs": [],
   "source": [
    "maskedRanges = { ch:get_masked_ranges(chromosomes[ch]) for ch in chromosomes }"
   ]
  },
  {
   "cell_type": "code",
   "execution_count": 44,
   "metadata": {
    "collapsed": false
   },
   "outputs": [
    {
     "name": "stdout",
     "output_type": "stream",
     "text": [
      "Chr5 has 14204 \tmasked regions covering 0.17 of it.\n",
      "Chr4 has 9929 \tmasked regions covering 0.20 of it.\n",
      "Chr3 has 12682 \tmasked regions covering 0.18 of it.\n",
      "Chr2 has 11107 \tmasked regions covering 0.21 of it.\n",
      "Chr1 has 15902 \tmasked regions covering 0.15 of it.\n",
      "mitochondria has 108 \tmasked regions covering 0.05 of it.\n",
      "chloroplast has 87 \tmasked regions covering 0.04 of it.\n"
     ]
    }
   ],
   "source": [
    "for ch in chromosomes :\n",
    "    ranges = maskedRanges[ch]\n",
    "    rangeSize = map(lambda x : x[1]-x[0], ranges)\n",
    "    totalMasked = sum(rangeSize)\n",
    "    print '{} has {} \\tmasked regions covering {:.2f} of it.'.format(ch, len(ranges), float(totalMasked)/len(chromosomes[ch]))"
   ]
  },
  {
   "cell_type": "markdown",
   "metadata": {},
   "source": [
    "We then read the vcf file to obtain al the heterozygous variants. \n",
    "\n",
    "`get_hetero_variants()` will extract heterozygous variant that satisfy :\n",
    "  * minGQ specified for SNPs (default 50)\n",
    "  * minGQ specified for indels (default 30)\n",
    "  * minAD specified (default 5)\n",
    "  \n",
    "Where GQ is genotype quality and AD is alelle depth as defined by GATK. \n",
    "The defaults reflects values reported in the original publication. \n",
    "\n",
    "`get_hetero_variants()` returns sample counts for each genotype in each variant position. It does not return per-sample information.\n"
   ]
  },
  {
   "cell_type": "code",
   "execution_count": 97,
   "metadata": {
    "collapsed": false
   },
   "outputs": [],
   "source": [
    "vcfFile = 'calls/genotype.vcf'\n",
    "\n",
    "hetSNPs, hetIndels = get_hetero_variants(vcfFile)"
   ]
  },
  {
   "cell_type": "code",
   "execution_count": 98,
   "metadata": {
    "collapsed": false
   },
   "outputs": [
    {
     "name": "stdout",
     "output_type": "stream",
     "text": [
      "Chr5 has 133333 hetero SNPs and 33662 hetero indels.\n",
      "Chr4 has 89621 hetero SNPs and 22595 hetero indels.\n",
      "Chr3 has 102039 hetero SNPs and 24587 hetero indels.\n",
      "Chr2 has 79041 hetero SNPs and 19656 hetero indels.\n",
      "Chr1 has 141016 hetero SNPs and 35974 hetero indels.\n",
      "mitochondria has 192 hetero SNPs and 12 hetero indels.\n",
      "chloroplast has 16 hetero SNPs and 2 hetero indels.\n"
     ]
    }
   ],
   "source": [
    "for ch in hetSNPs :\n",
    "    print '{} has {} hetero SNPs and {} hetero indels.'.format \\\n",
    "    (ch, len(hetSNPs[ch]), len(hetIndels[ch]))"
   ]
  },
  {
   "cell_type": "markdown",
   "metadata": {},
   "source": [
    "`process_hetero_variants()` will split heretozygous variants into **inherited** and **denovo** partitions. \n",
    "\n",
    "If we observe a heterozygous variant in more than *minInherit* samples (default 10) we claim this was inherited, therefore **f1 was heterozygous in these positions** \n",
    "\n",
    "If we observe a heterozygous variant in a maximum of *maxDenovo* samples (default 1), we claim **a sample in f2 has a denovo mutation in this position** "
   ]
  },
  {
   "cell_type": "code",
   "execution_count": 99,
   "metadata": {
    "collapsed": false
   },
   "outputs": [
    {
     "name": "stdout",
     "output_type": "stream",
     "text": [
      "Chr5: inherited 119098 snps, 28825 indels, denovo 3877 snps,1867 indels \n",
      "Chr4: inherited 80184 snps, 19333 indels, denovo 2728 snps,1248 indels \n",
      "Chr3: inherited 88765 snps, 20375 indels, denovo 3763 snps,1643 indels \n",
      "Chr2: inherited 70455 snps, 16571 indels, denovo 2329 snps,1281 indels \n",
      "Chr1: inherited 126255 snps, 30515 indels, denovo 4174 snps,2054 indels \n",
      "mitochondria: inherited 43 snps, 2 indels, denovo 39 snps,3 indels \n",
      "chloroplast: inherited 8 snps, 1 indels, denovo 2 snps,0 indels \n"
     ]
    }
   ],
   "source": [
    "variants = dict()\n",
    "for ch in hetSNPs :\n",
    "    inheritSNPs, denovoSNPs = process_hetero_variants(hetSNPs[ch])\n",
    "    inheritIndels, denovoIndels = process_hetero_variants(hetIndels[ch])\n",
    "    \n",
    "    thisChromosome = dict()\n",
    "    \n",
    "    thisChromosome['inheritSNPs'] = inheritSNPs\n",
    "    thisChromosome['inheritIndels'] = inheritIndels\n",
    "    thisChromosome['denovoSNPs'] = denovoSNPs\n",
    "    thisChromosome['denovoIndels'] = denovoIndels\n",
    "    \n",
    "    variants[ch]=thisChromosome\n",
    "    \n",
    "    print '{}: inherited {} snps, {} indels, denovo {} snps,{} indels '.format \\\n",
    "    (ch, len(inheritSNPs), len(inheritIndels), len(denovoSNPs), len(denovoIndels) )\n",
    "    "
   ]
  },
  {
   "cell_type": "markdown",
   "metadata": {},
   "source": [
    "`get_hetero_distances()` will calculate the average distance of a denovo mutation to the closest heterozygous mutation. \n",
    "\n",
    "We can now calculate this value per chromosome, but for the number to make sense we need to compare it to a **null model**. \n",
    "\n",
    "Our null model consists of sampling the same number of mutations positions randomly from the chromosome and measuring the average distance to the closest heterozygous point.  We repeat the experiment `nullsamples` times and report mean and std.  \n",
    "\n",
    "Let's do this for SNPs first : "
   ]
  },
  {
   "cell_type": "code",
   "execution_count": 104,
   "metadata": {
    "collapsed": false
   },
   "outputs": [
    {
     "name": "stdout",
     "output_type": "stream",
     "text": [
      "Chr1 260.135122185 2991.33622688 188.095848259\n",
      "Chr2 296.996135681 1343.35874281 71.0516160267\n",
      "Chr3 258.634334308 1292.51587749 51.6397180415\n",
      "Chr4 506.761363636 1829.77528116 103.466338013\n",
      "Chr5 211.622646376 2013.6351024 125.236340515\n"
     ]
    }
   ],
   "source": [
    "for chno in range(1,6) :\n",
    "    ch = 'Chr'+str(chno)\n",
    "    # measuring the observed value\n",
    "    denovo = variants[ch]['denovoSNPs']\n",
    "    hetero = variants[ch]['inheritSNPs']\n",
    "    dist = get_hetero_distances(denovo, hetero)\n",
    "    \n",
    "    # sampling the null model \n",
    "    nullSamples = 1000\n",
    "    null = list()\n",
    "    for i in range(nullSamples) :\n",
    "        null_denovo = sample_mutations(len(denovo),maskedRanges[ch],chrSize=len(chromosomes[ch])) \n",
    "        null_dist = get_hetero_distances(null_denovo, hetero)\n",
    "        null.append(mean(null_dist))\n",
    "    \n",
    "    \n",
    "    print ch, mean(dist), mean(null), std(null)"
   ]
  },
  {
   "cell_type": "code",
   "execution_count": 93,
   "metadata": {
    "collapsed": false
   },
   "outputs": [
    {
     "name": "stdout",
     "output_type": "stream",
     "text": [
      "44031 144493\n"
     ]
    }
   ],
   "source": [
    "hist(dist, bins=range(0,1000,10), label='true', normed=True)\n",
    "hist(null_dist, bins=range(0,1000,10), label='null', normed=True)\n",
    "legend()\n",
    "print max(dist), max(null_dist)"
   ]
  },
  {
   "cell_type": "code",
   "execution_count": 90,
   "metadata": {
    "collapsed": false
   },
   "outputs": [
    {
     "name": "stdout",
     "output_type": "stream",
     "text": [
      "25839186 0.849200255912\n"
     ]
    }
   ],
   "source": [
    "allChromosome = list()\n",
    "here = 0 \n",
    "for r in maskedRanges['Chr1'] : \n",
    "    allChromosome += range(here, r[0])\n",
    "    here = r[1]\n",
    "print len(allChromosome), float(len(allChromosome))/len(chromosomes['Chr1'])\n",
    "allChromosome = array(sorted(allChromosome), dtype=int)\n",
    "\n",
    "all_dist = get_hetero_distances(allChromosome, hetero)"
   ]
  },
  {
   "cell_type": "code",
   "execution_count": 95,
   "metadata": {
    "collapsed": false
   },
   "outputs": [
    {
     "name": "stdout",
     "output_type": "stream",
     "text": [
      "1120.86098331 4026.48978733\n"
     ]
    }
   ],
   "source": [
    "hist(all_dist, bins=range(0,1000,10), label='full', normed=True)\n",
    "print mean(all_dist), std(all_dist)"
   ]
  }
 ],
 "metadata": {
  "kernelspec": {
   "display_name": "Python 2",
   "language": "python2",
   "name": "python2"
  },
  "language_info": {
   "codemirror_mode": {
    "name": "ipython",
    "version": 2
   },
   "file_extension": ".py",
   "mimetype": "text/x-python",
   "name": "python",
   "nbconvert_exporter": "python",
   "pygments_lexer": "ipython2",
   "version": "2.7.12"
  }
 },
 "nbformat": 4,
 "nbformat_minor": 1
}
