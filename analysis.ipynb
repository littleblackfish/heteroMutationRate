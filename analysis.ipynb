{
 "cells": [
  {
   "cell_type": "markdown",
   "metadata": {},
   "source": [
    "We run the main analysis script which imports the necessary libraries and provides all our functions"
   ]
  },
  {
   "cell_type": "code",
   "execution_count": 137,
   "metadata": {
    "collapsed": false
   },
   "outputs": [],
   "source": [
    "%run src/analyse.py "
   ]
  },
  {
   "cell_type": "markdown",
   "metadata": {},
   "source": [
    "### Reading the reference \n",
    "\n",
    "We read the reference genome and parse it to obtain the masked regions. These regions will be relevant when we are sampling random mutations for our null model. \n",
    "\n",
    "We are not interested in mitochondria or chloroplast in this work so we remove them from the samples."
   ]
  },
  {
   "cell_type": "code",
   "execution_count": null,
   "metadata": {
    "collapsed": true
   },
   "outputs": [],
   "source": [
    "TAIR10 = 'reference/TAIR10-masked.fa'\n",
    "\n",
    "chromosomes  = dict()  # chromosome sequences\n",
    "chrSize      = dict()  # chromosome sizes, for convenience\n",
    "maskedRanges = dict()  # masked ranges in each chromosome\n",
    "\n",
    "for chromosome in SeqIO.parse(TAIR10, 'fasta', generic_dna) :\n",
    "    name, seq  = chromosome.name, chromosome.seq\n",
    "    \n",
    "    # ignore chloroplast and mitochondria\n",
    "    if name == 'chloroplast' or name == 'mitochondria' : continue\n",
    "    \n",
    "    chromosomes[name]  = seq\n",
    "    chrSize[name]      = len(seq) \n",
    "    maskedRanges[name] = get_masked_ranges(seq)\n",
    "    \n",
    "    # get total size of masked regions\n",
    "    maskedSize = sum(map(lambda x : x[1]-x[0], maskedRanges[name]))\n",
    "    \n",
    "    print '{} is of length {}, covered {:.1f}% by masked regions'.format\\\n",
    "    (name, chrSize[name], maskedSize*100.0/chrSize[name])"
   ]
  },
  {
   "cell_type": "code",
   "execution_count": 119,
   "metadata": {
    "collapsed": false
   },
   "outputs": [],
   "source": [
    "# chromosome namelist for convenience\n",
    "chrNames = chromosomes.keys()\n",
    "chrNames.sort()"
   ]
  },
  {
   "cell_type": "markdown",
   "metadata": {},
   "source": [
    "### Reading the vcf file\n",
    "\n",
    "We parse the vcf file that was generated in the final step of the variant calling workflow to obtain all the heterozygous variants.\n",
    "We call the function \n",
    "\n",
    "`get_hetero_variants(vcfFile, snpMinGQ=50, indelMinGQ=30, minAD=5)`\n",
    "\n",
    "which extracts heterozygous variants that satisfy minimum genotype quality (GQ) and alelle depth (AD) requirements. \n",
    "The default values reflect the reported filters in the original publication. \n",
    "\n",
    "`get_hetero_variants()` returns **sample counts** for each genotype in each variant position, in each chromosome. It does not return per-sample information.\n"
   ]
  },
  {
   "cell_type": "code",
   "execution_count": 97,
   "metadata": {
    "collapsed": false
   },
   "outputs": [],
   "source": [
    "vcfFile = 'calls/genotype.vcf'\n",
    "\n",
    "hetSNPs, hetIndels = get_hetero_variants(vcfFile)"
   ]
  },
  {
   "cell_type": "code",
   "execution_count": 132,
   "metadata": {
    "collapsed": false,
    "scrolled": true
   },
   "outputs": [
    {
     "name": "stdout",
     "output_type": "stream",
     "text": [
      "Chr1: 141016/35974 hetero SNPs/indels, total: 176990\n",
      "Chr2:  79041/19656 hetero SNPs/indels, total: 98697\n",
      "Chr3: 102039/24587 hetero SNPs/indels, total: 126626\n",
      "Chr4:  89621/22595 hetero SNPs/indels, total: 112216\n",
      "Chr5: 133333/33662 hetero SNPs/indels, total: 166995\n"
     ]
    }
   ],
   "source": [
    "for ch in chrNames :\n",
    "    print '{}: {:6d}/{} hetero SNPs/indels, total: {}'.format \\\n",
    "    (ch, len(hetSNPs[ch]), len(hetIndels[ch]), len(hetSNPs[ch])+len(hetIndels[ch]))"
   ]
  },
  {
   "cell_type": "markdown",
   "metadata": {},
   "source": [
    "### Denovo vs. inherited variation\n",
    "\n",
    "`process_hetero_variants (variants, minInherit=10, maxDenovo=1)` splits heretozygous variants into **inherited** and **denovo** partitions. \n",
    "\n",
    "If we observe a heterozygous variant in more than *minInherit* samples  we claim this was inherited, therefore **f1 was heterozygous in these positions** \n",
    "\n",
    "If we observe a heterozygous variant in a maximum of *maxDenovo* samples, we claim **a sample in f2 has a denovo mutation in this position** "
   ]
  },
  {
   "cell_type": "code",
   "execution_count": 164,
   "metadata": {
    "collapsed": false
   },
   "outputs": [
    {
     "name": "stdout",
     "output_type": "stream",
     "text": [
      "Chr1: inherited: 126255/30515 SNPs/indels, denovo: 4174/2054 SNPs/indels \n",
      "Chr2: inherited:  70455/16571 SNPs/indels, denovo: 2329/1281 SNPs/indels \n",
      "Chr3: inherited:  88765/20375 SNPs/indels, denovo: 3763/1643 SNPs/indels \n",
      "Chr4: inherited:  80184/19333 SNPs/indels, denovo: 2728/1248 SNPs/indels \n",
      "Chr5: inherited: 119098/28825 SNPs/indels, denovo: 3877/1867 SNPs/indels \n"
     ]
    }
   ],
   "source": [
    "hetero_variants = dict()\n",
    "\n",
    "for ch in chrNames :\n",
    "    inheritSNPs, denovoSNPs = process_hetero_variants(hetSNPs[ch])\n",
    "    inheritIndels, denovoIndels = process_hetero_variants(hetIndels[ch])\n",
    "    \n",
    "    thisChromosome = dict()\n",
    "    \n",
    "    thisChromosome['inheritSNPs'] = inheritSNPs\n",
    "    thisChromosome['inheritIndels'] = inheritIndels\n",
    "    thisChromosome['denovoSNPs'] = denovoSNPs\n",
    "    thisChromosome['denovoIndels'] = denovoIndels\n",
    "    # combined indels and snps \n",
    "    thisChromosome['denovoAll'] = sort(hstack([denovoSNPs, denovoIndels]))\n",
    "    thisChromosome['inheritAll']= sort(hstack([inheritSNPs, inheritIndels]))\n",
    "    \n",
    "    \n",
    "    hetero_variants[ch]=thisChromosome\n",
    "    \n",
    "    print '{}: inherited: {:6d}/{:5d} SNPs/indels, denovo: {}/{} SNPs/indels '.format \\\n",
    "    (ch, len(inheritSNPs), len(inheritIndels), len(denovoSNPs), len(denovoIndels) )\n",
    "    "
   ]
  },
  {
   "cell_type": "markdown",
   "metadata": {},
   "source": [
    "### Measure\n",
    "\n",
    "The essence of this hypothesis is in the distance between the denovo mutations and the heterozygous regions in the parent genome. \n",
    "\n",
    "`get_hetero_distances(denovo, hetero)` takes two lists of positions and will calculate the average distance of a denovo mutation to the closest heterozygous mutation. \n",
    "\n",
    "Because it is not trivial how to deal with snps vs. indels, we might as well do this thrice, for snps, indels and combined. \n",
    "\n",
    "\n",
    "Let's do this for SNPs first : "
   ]
  },
  {
   "cell_type": "code",
   "execution_count": 172,
   "metadata": {
    "collapsed": false
   },
   "outputs": [
    {
     "name": "stdout",
     "output_type": "stream",
     "text": [
      "Chr1 260.135122185 1308.87925998 225.931599229\n",
      "Chr2 297.264920567 1097.53786105 277.906371191\n",
      "Chr3 258.634334308 1286.89531345 235.231409545\n",
      "Chr4 506.761363636 910.356570513 402.881790744\n",
      "Chr5 211.622646376 980.467595072 203.993036212\n"
     ]
    }
   ],
   "source": [
    "hetero_distances = dict()\n",
    "\n",
    "for ch in chrNames :\n",
    "    \n",
    "    thisChr = hetero_variants[ch]\n",
    "    \n",
    "    dist = dict()\n",
    "    \n",
    "    # for snps\n",
    "    dist['snp'] = get_hetero_distances(thisChr['denovoSNPs'], thisChr['inheritSNPs'])\n",
    "    \n",
    "    # for indels\n",
    "\n",
    "    dist['indel'] = get_hetero_distances( thisChr['denovoIndels'], thisChr['inheritIndels'] )\n",
    "    \n",
    "    # combined\n",
    "\n",
    "    dist['combined'] = get_hetero_distances(thisChr['denovoAll'], thisChr['inheritAll'])\n",
    "    \n",
    "    hetero_distances[ch]=dist\n",
    "    \n",
    "    print ch, mean(dist['snp']), mean(dist['indel']), mean(dist['combined'])\n",
    "    "
   ]
  },
  {
   "cell_type": "markdown",
   "metadata": {},
   "source": [
    "### Null model\n",
    "\n",
    "\n",
    "We now have the observed mutation-to-hetero distances per chromosome. It is time to compare it to a **null model**. \n",
    "\n",
    "We build a null model by sampling the same number of positions randomly from the chromosome and measuring the average distance to the closest heterozygous position. \n",
    "\n",
    "We repeat the experiment `nullsamples` times and report mean and std for the null model.\n",
    "\n",
    "We report the observed value versus the mean and std of the null model to attempt to reject the null."
   ]
  },
  {
   "cell_type": "code",
   "execution_count": 177,
   "metadata": {
    "collapsed": false
   },
   "outputs": [
    {
     "name": "stdout",
     "output_type": "stream",
     "text": [
      "Chr1: observed: 225.93 null: 2828.39/156.28 mean/std\n",
      "Chr2: observed: 277.91 null: 1289.00/59.62 mean/std\n",
      "Chr3: observed: 235.23 null: 1226.74/45.14 mean/std\n",
      "Chr4: observed: 402.88 null: 1773.37/88.34 mean/std\n",
      "Chr5: observed: 203.99 null: 1950.34/101.49 mean/std\n"
     ]
    }
   ],
   "source": [
    "nullSamples = 1000\n",
    "\n",
    "for ch in chrNames :\n",
    "    null_dist = list()\n",
    "    ndenovo = len(hetero_variants[ch]['denovoAll'])\n",
    "    \n",
    "    for i in range(nullSamples) :\n",
    "        null_denovo = sample_mutations(ndenovo, maskedRanges[ch], chrSize[ch] )\n",
    "        null_dist.append (mean(get_hetero_distances(null_denovo, hetero_variants[ch]['inheritAll'])))\n",
    "    \n",
    "    print '{}: observed: {:.2f} null: {:.2f}/{:.2f} mean/std'.format\\\n",
    "    (ch, mean(hetero_distances[ch]['combined']), mean(null_dist), std(null_dist))"
   ]
  },
  {
   "cell_type": "markdown",
   "metadata": {},
   "source": [
    "Surprisingly enough, it looks like we have good reason to reject the null hypothesis.\n",
    "\n",
    "### Complete null model\n",
    "\n",
    "If we sample all non-masked positions in each chromosome rather than some number of mutations, we can see the convergent state of our null model, this will give us a maximally informed distribution. "
   ]
  },
  {
   "cell_type": "code",
   "execution_count": 184,
   "metadata": {
    "collapsed": false
   },
   "outputs": [
    {
     "name": "stdout",
     "output_type": "stream",
     "text": [
      "Chr1 958.011017568 3668.36055703\n",
      "Chr2 593.785671552 1980.12846451\n",
      "Chr3 608.348501697 1680.09555205\n",
      "Chr4 510.077802624 1984.47875627\n",
      "Chr5 886.246112729 5011.90265832\n"
     ]
    }
   ],
   "source": [
    "complete_null = dict()\n",
    "\n",
    "for ch in chrNames :\n",
    "    # get all the non-masked positions \n",
    "    allChromosome = list()\n",
    "    here = 0 \n",
    "    for r in maskedRanges[ch] : \n",
    "        allChromosome += range(here, r[0])\n",
    "        here = r[1]\n",
    "    allChromosome = array(sorted(allChromosome), dtype=int)\n",
    "\n",
    "    dist = get_hetero_distances(allChromosome, hetero_variants[ch]['inheritAll'])\n",
    "    \n",
    "    complete_null[ch] = dist\n",
    "    \n",
    "    print ch, mean(dist), std(dist)"
   ]
  },
  {
   "cell_type": "markdown",
   "metadata": {},
   "source": [
    "We can see that means are a little lower than our null 'experiment's but the std is much larger. \n",
    "These are <del>power law</del> heavy tailed distributions. \n",
    "This means the first two moments (mean and std) might not be very informative. \n",
    "\n",
    "It might be a good idea to approach with a information theoretical measure rather than simple moments to this analysis. \n",
    "\n",
    "I will do this later.\n",
    "\n",
    "Also note that there is another culling step that removes some variants from the pool. \n",
    "\n",
    "I will maybe do that laer too."
   ]
  },
  {
   "cell_type": "code",
   "execution_count": 93,
   "metadata": {
    "collapsed": false
   },
   "outputs": [
    {
     "name": "stdout",
     "output_type": "stream",
     "text": [
      "44031 144493\n"
     ]
    }
   ],
   "source": [
    "hist(dist, bins=range(0,1000,10), label='true', normed=True)\n",
    "hist(null_dist, bins=range(0,1000,10), label='null', normed=True)\n",
    "legend()\n",
    "print max(dist), max(null_dist)"
   ]
  },
  {
   "cell_type": "code",
   "execution_count": 178,
   "metadata": {
    "collapsed": false
   },
   "outputs": [
    {
     "name": "stdout",
     "output_type": "stream",
     "text": [
      "1120.86098331 4026.48978733\n"
     ]
    }
   ],
   "source": [
    "hist(all_dist, bins=range(0,1000,10), label='full', normed=True)\n",
    "print mean(all_dist), std(all_dist)"
   ]
  }
 ],
 "metadata": {
  "kernelspec": {
   "display_name": "Python 2",
   "language": "python2",
   "name": "python2"
  },
  "language_info": {
   "codemirror_mode": {
    "name": "ipython",
    "version": 2
   },
   "file_extension": ".py",
   "mimetype": "text/x-python",
   "name": "python",
   "nbconvert_exporter": "python",
   "pygments_lexer": "ipython2",
   "version": "2.7.12"
  }
 },
 "nbformat": 4,
 "nbformat_minor": 1
}
